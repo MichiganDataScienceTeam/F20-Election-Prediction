{
 "cells": [
  {
   "cell_type": "code",
   "execution_count": 25,
   "metadata": {},
   "outputs": [],
   "source": [
    "import pandas as pd\n",
    "import numpy as np\n",
    "import us\n",
    "#from geopy.geocoders import Nominatim\n",
    "from sklearn.neighbors import NearestNeighbors"
   ]
  },
  {
   "cell_type": "code",
   "execution_count": 26,
   "metadata": {},
   "outputs": [],
   "source": [
    "#import all of the data we're going to use\n",
    "demographicData = pd.read_csv(\"Data/Demographics/ACSDP1Y2019.csv\", skiprows=[0])\n",
    "incomeData = pd.read_csv(\"Data/Income/ACSST1Y2019.csv\", skiprows=[0])\n",
    "urbanData = pd.read_csv(\"2010CensusUrbanRural.csv\", skiprows=[0])\n",
    "latLongData = pd.read_csv(\"latitudeAndLongitude.csv\")\n",
    "educationData = pd.read_csv(\"Data/ACSST1Y2019.S1501_data_with_overlays_2020-10-22T140417.csv\",skiprows=([0]))\n",
    "urbanData = pd.read_csv(\"2010CensusUrbanRural.csv\", skiprows = [0])\n",
    "unemploymentData = pd.read_csv(\"Data/State unemployment - Sheet1.csv\")"
   ]
  },
  {
   "cell_type": "code",
   "execution_count": 28,
   "metadata": {},
   "outputs": [],
   "source": [
    "#delete \"margin of error\" data, which we will not be using\n",
    "margins = [column for column in demographicData.columns if \"Margin\" in column]\n",
    "demographicData = demographicData.drop(columns = margins)"
   ]
  },
  {
   "cell_type": "code",
   "execution_count": 29,
   "metadata": {
    "scrolled": true
   },
   "outputs": [],
   "source": [
    "margins = [column for column in educationData.columns if \"Margin\" in column]\n",
    "educationData = educationData.drop(columns = margins)"
   ]
  },
  {
   "cell_type": "code",
   "execution_count": 30,
   "metadata": {
    "scrolled": true
   },
   "outputs": [],
   "source": [
    "#This took forever to run and the geographic positions of the states don't change enough for fresh data to\n",
    "#matter,so I saved the lat/long data and loaded it separately\n",
    "#geolocator = Nominatim(user_agent = \"MDST-election-prediction\")\n",
    "#lat = {}\n",
    "#long = {}\n",
    "#for index, state in demographicData[\"Geographic Area Name\"].iteritems():\n",
    "#    loc = geolocator.geocode(state)\n",
    "#    lat[state] = loc.latitude\n",
    "#    long[state] = loc.longitude\n",
    "#demographicData[\"Longitude\"] = demographicData[\"Geographic Area Name\"].map(long)\n",
    "#demographicData[\"Latitude\"] = demographicData[\"Geographic Area Name\"].map(lat)"
   ]
  },
  {
   "cell_type": "code",
   "execution_count": 31,
   "metadata": {},
   "outputs": [],
   "source": [
    "#latlongCols = [\"Longitude\", \"Latitude\"]"
   ]
  },
  {
   "cell_type": "code",
   "execution_count": 32,
   "metadata": {},
   "outputs": [],
   "source": [
    "#latLongData = demographicData[latlongCols]\n",
    "#latLongData.to_csv(\"latitudeAndLongitude.csv\", index = False)"
   ]
  },
  {
   "cell_type": "code",
   "execution_count": 33,
   "metadata": {},
   "outputs": [],
   "source": [
    "#isolate the features from the Demographic chart\n",
    "feat_columns = [\"Estimate!!SEX AND AGE!!Total population!!Median age (years)\",\n",
    "                \"Percent!!RACE!!Total population!!One race!!Black or African American\",\n",
    "               \"Percent!!RACE!!Total population!!One race!!American Indian and Alaska Native\",\n",
    "               \"Percent!!RACE!!Total population!!One race!!Asian\",\n",
    "               \"Percent!!HISPANIC OR LATINO AND RACE!!Total population!!Hispanic or Latino (of any race)\"]\n",
    "edu_columns = [\"Estimate!!Total!!AGE BY EDUCATIONAL ATTAINMENT!!Population 18 to 24 years\",\"Estimate!!Total!!AGE BY EDUCATIONAL ATTAINMENT!!Population 18 to 24 years!!Bachelor's degree or higher\",\"Estimate!!Total!!AGE BY EDUCATIONAL ATTAINMENT!!Population 25 years and over\",\"Estimate!!Total!!AGE BY EDUCATIONAL ATTAINMENT!!Population 25 years and over!!Bachelor's degree or higher\",\"Estimate!!Percent!!RACE AND HISPANIC OR LATINO ORIGIN BY EDUCATIONAL ATTAINMENT!!White alone!!Bachelor's degree or higher\"]"
   ]
  },
  {
   "cell_type": "code",
   "execution_count": 34,
   "metadata": {},
   "outputs": [],
   "source": [
    "demoFeatData = demographicData[feat_columns]\n",
    "educationData = educationData[edu_columns]"
   ]
  },
  {
   "cell_type": "code",
   "execution_count": 40,
   "metadata": {},
   "outputs": [],
   "source": [
    "#Find the total number of people with a bachelors degree or higher, then find what percentage that is of the total population\n",
    "educationData['total_with_college'] = educationData[\"Estimate!!Total!!AGE BY EDUCATIONAL ATTAINMENT!!Population 18 to 24 years!!Bachelor's degree or higher\"] + educationData[\"Estimate!!Total!!AGE BY EDUCATIONAL ATTAINMENT!!Population 25 years and over!!Bachelor's degree or higher\"]\n",
    "educationDataeducationData['total_pop'] = educationData[\"Estimate!!Total!!AGE BY EDUCATIONAL ATTAINMENT!!Population 18 to 24 years\"] + educationData[\"Estimate!!Total!!AGE BY EDUCATIONAL ATTAINMENT!!Population 25 years and over\"]\n",
    "educationData['percent_with_degree'] = educationData['total_with_college'] / educationData['total_pop'] * 100"
   ]
  },
  {
   "cell_type": "code",
   "execution_count": 41,
   "metadata": {},
   "outputs": [],
   "source": [
    "edu_feats = [\"percent_with_degree\", \"Estimate!!Percent!!RACE AND HISPANIC OR LATINO ORIGIN BY EDUCATIONAL ATTAINMENT!!White alone!!Bachelor's degree or higher\"]"
   ]
  },
  {
   "cell_type": "code",
   "execution_count": 42,
   "metadata": {
    "scrolled": true
   },
   "outputs": [],
   "source": [
    "eduFeatData = educationData[edu_feats]"
   ]
  },
  {
   "cell_type": "code",
   "execution_count": 45,
   "metadata": {},
   "outputs": [],
   "source": [
    "demofeat_array = demoFeatData.to_numpy()\n",
    "latLong_array = latLongData.to_numpy()"
   ]
  },
  {
   "cell_type": "code",
   "execution_count": 46,
   "metadata": {},
   "outputs": [],
   "source": [
    "edufeat_array = eduFeatData.to_numpy()"
   ]
  },
  {
   "cell_type": "code",
   "execution_count": 47,
   "metadata": {},
   "outputs": [
    {
     "data": {
      "text/plain": [
       "array([40.9631829 , 33.98021207, 10.19017941, 43.83967588,  5.04738342,\n",
       "       26.81374924, 41.61952653, 13.84783969, 12.00736857, 16.70334345,\n",
       "        0.        ,  8.83696934, 24.9338204 ,  8.0726251 , 29.42187394,\n",
       "       11.51212972, 27.55639361, 35.98067198, 25.80184205, 61.34017786,\n",
       "       12.80357395,  8.02794416, 25.43276566, 26.72764038, 50.65461934,\n",
       "       29.56382671, 44.1069723 , 26.86546488,  5.80451915, 39.69691675,\n",
       "        5.32044631, 22.5729769 , 12.12707519, 33.91256636, 40.10148813,\n",
       "       22.07609862, 33.75642535, 18.9683624 , 21.34318304,  9.26534843,\n",
       "       33.67421461, 43.34827679, 33.60896172, 15.30099885,  9.41754089,\n",
       "       61.10451449, 24.54598311, 15.95158925, 51.27830959, 29.84617863,\n",
       "       35.24198671,  6.24117469])"
      ]
     },
     "execution_count": 47,
     "metadata": {},
     "output_type": "execute_result"
    }
   ],
   "source": [
    "#calculate the percentage of the rural-urban split, ie what percentage of people in a state live in a rural area\n",
    "#we believe these areas will be more likely to vote for Trump, so it is important to know prominent rural voters\n",
    "#are in a given state\n",
    "urbanData[\"percentRural\"] = (urbanData[\"Total!!Rural\"]/(urbanData[\"Total!!Rural\"] + urbanData[\"Total!!Urban\"])) * 100\n",
    "urbanRural_array = urbanData[\"percentRural\"].to_numpy()"
   ]
  },
  {
   "cell_type": "code",
   "execution_count": 49,
   "metadata": {},
   "outputs": [],
   "source": [
    "#clean up unemployment percentages\n",
    "unemploymentData = unemploymentData.sort_values(by = \"State\")\n",
    "unemploymentData = unemploymentData[\"Unemployment Percentage\"]\n",
    "unemployment_array = unemploymentData.to_numpy()"
   ]
  },
  {
   "cell_type": "code",
   "execution_count": 51,
   "metadata": {},
   "outputs": [],
   "source": [
    "#combine all the features into a single array to prepare for a KNN regression that will enable us to determine\n",
    "#which states are most alike\n",
    "feat_array = np.concatenate((demofeat_array[0:51],edufeat_array[0:51], latLong_array[0:51],unemployment_array[:,np.newaxis], urbanRural_array[0:51,np.newaxis]), axis = 1)"
   ]
  },
  {
   "cell_type": "code",
   "execution_count": 53,
   "metadata": {},
   "outputs": [],
   "source": [
    "#run the k nearest neighbors regression, get the 5 nearest neighbors for each state\n",
    "nbrs = NearestNeighbors().fit(feat_array)\n",
    "distances, indices = nbrs.kneighbors(feat_array)"
   ]
  },
  {
   "cell_type": "code",
   "execution_count": 56,
   "metadata": {},
   "outputs": [],
   "source": []
  },
  {
   "cell_type": "code",
   "execution_count": 57,
   "metadata": {
    "scrolled": true
   },
   "outputs": [
    {
     "name": "stdout",
     "output_type": "stream",
     "text": [
      "Alabama: South Carolina, Tennessee, Arkansas, Mississippi\n",
      "Alaska: Oregon, Idaho, Montana, Wyoming\n",
      "Arizona: Nevada, Texas, California, Utah\n",
      "Arkansas: Kentucky, Tennessee, Alabama, Oklahoma\n",
      "California: Nevada, Arizona, Texas, New Mexico\n",
      "Colorado: Kansas, Nebraska, Minnesota, Oregon\n",
      "Connecticut: New Hampshire, North Carolina, Virginia, Pennsylvania\n",
      "Delaware: Pennsylvania, Virginia, Maryland, New York\n",
      "District of Columbia: Maryland, Virginia, Massachusetts, New York\n",
      "Florida: Illinois, New York, Delaware, Rhode Island\n",
      "Georgia: Delaware, Maryland, Illinois, New York\n",
      "Hawaii: California, Oregon, Nevada, Utah\n",
      "Idaho: Wyoming, Oregon, Nebraska, Kansas\n",
      "Illinois: New York, New Jersey, Washington, Rhode Island\n",
      "Indiana: Kentucky, Michigan, Missouri, Wisconsin\n",
      "Iowa: Ohio, Nebraska, Wisconsin, Michigan\n",
      "Kansas: Nebraska, Minnesota, Missouri, Wisconsin\n",
      "Kentucky: Indiana, Tennessee, Missouri, Arkansas\n",
      "Louisiana: Alabama, South Carolina, Tennessee, North Carolina\n",
      "Maine: Vermont, New Hampshire, West Virginia, Connecticut\n",
      "Maryland: Delaware, Virginia, New York, Georgia\n",
      "Massachusetts: New Jersey, New York, Rhode Island, Washington\n",
      "Michigan: Ohio, Indiana, Pennsylvania, Wisconsin\n",
      "Minnesota: Wisconsin, Nebraska, Kansas, Missouri\n",
      "Mississippi: Alabama, Arkansas, South Carolina, Louisiana\n",
      "Missouri: Wisconsin, Indiana, Tennessee, Michigan\n",
      "Montana: South Dakota, North Dakota, Wyoming, Nebraska\n",
      "Nebraska: Kansas, Minnesota, Wisconsin, Missouri\n",
      "Nevada: Arizona, California, Utah, Texas\n",
      "New Hampshire: Connecticut, Vermont, Wisconsin, Maine\n",
      "New Jersey: New York, Massachusetts, Rhode Island, Illinois\n",
      "New Mexico: Texas, Arizona, California, Nevada\n",
      "New York: New Jersey, Rhode Island, Massachusetts, Washington\n",
      "North Carolina: South Carolina, Tennessee, Virginia, Alabama\n",
      "North Dakota: South Dakota, Montana, Wyoming, Wisconsin\n",
      "Ohio: Michigan, Pennsylvania, Indiana, Missouri\n",
      "Oklahoma: Missouri, Kansas, Nebraska, Indiana\n",
      "Oregon: Idaho, Utah, Wyoming, Colorado\n",
      "Pennsylvania: Ohio, Michigan, Washington, Delaware\n",
      "Rhode Island: Washington, New York, New Jersey, Massachusetts\n",
      "South Carolina: North Carolina, Alabama, Tennessee, Louisiana\n",
      "South Dakota: North Dakota, Montana, Wyoming, Oklahoma\n",
      "Tennessee: Missouri, Indiana, Kentucky, North Carolina\n",
      "Texas: Arizona, New Mexico, Florida, Nevada\n",
      "Utah: Oregon, Idaho, Arizona, Nebraska\n",
      "Vermont: Maine, New Hampshire, Connecticut, West Virginia\n",
      "Virginia: North Carolina, Pennsylvania, Delaware, Maryland\n",
      "Washington: Rhode Island, Pennsylvania, New York, Massachusetts\n",
      "West Virginia: Kentucky, Arkansas, Maine, Indiana\n",
      "Wisconsin: Missouri, Indiana, Michigan, Minnesota\n",
      "Wyoming: North Dakota, Idaho, Montana, Nebraska\n"
     ]
    }
   ],
   "source": [
    "#this loop converts the integer index of a state to a legible name, so we can easily which states are\n",
    "# like each other\n",
    "demographicData['Abbreviation'] = demographicData[\"Geographic Area Name\"].map(us.states.mapping('name', 'abbr'))\n",
    "for state in indices:\n",
    "    print(demographicData.iloc[state[0]]['Geographic Area Name'] + ': ' + demographicData.iloc[state[1]]['Geographic Area Name']\n",
    "         + ', ' + demographicData.iloc[state[2]]['Geographic Area Name'] + ', ' + demographicData.iloc[state[3]]['Geographic Area Name'] + ', ' \n",
    "          + demographicData.iloc[state[4]]['Geographic Area Name'])"
   ]
  },
  {
   "cell_type": "code",
   "execution_count": 58,
   "metadata": {},
   "outputs": [],
   "source": [
    "# the rest of this code exports the KNN into the format that the rest of the model\n",
    "# expects\n",
    "states = [\"AL\", \"AK\", \"AZ\", \"AR\", \"CA\", \"CO\", \"CT\", \"DC\", \"DE\", \"FL\", \"GA\", \n",
    "          \"HI\", \"ID\", \"IL\", \"IN\", \"IA\", \"KS\", \"KY\", \"LA\", \"ME\", \"MD\", \n",
    "          \"MA\", \"MI\", \"MN\", \"MS\", \"MO\", \"MT\", \"NE\", \"NV\", \"NH\", \"NJ\", \n",
    "          \"NM\", \"NY\", \"NC\", \"ND\", \"OH\", \"OK\", \"OR\", \"PA\", \"RI\", \"SC\", \n",
    "          \"SD\", \"TN\", \"TX\", \"UT\", \"VT\", \"VA\", \"WA\", \"WV\", \"WI\", \"WY\"]"
   ]
  },
  {
   "cell_type": "code",
   "execution_count": 59,
   "metadata": {
    "scrolled": true
   },
   "outputs": [],
   "source": [
    "knn_names = np.array([['NN']*indices.shape[1]]*indices.shape[0])"
   ]
  },
  {
   "cell_type": "code",
   "execution_count": 60,
   "metadata": {},
   "outputs": [],
   "source": [
    "knn_names[0][0] = state[1]"
   ]
  },
  {
   "cell_type": "code",
   "execution_count": 61,
   "metadata": {},
   "outputs": [],
   "source": [
    "for i, row in enumerate(indices):\n",
    "    for j, column in enumerate(row):\n",
    "        knn_names[i][j] = states[column]"
   ]
  },
  {
   "cell_type": "code",
   "execution_count": 65,
   "metadata": {},
   "outputs": [],
   "source": [
    "knn_names = pd.DataFrame(knn_names)"
   ]
  },
  {
   "cell_type": "code",
   "execution_count": 66,
   "metadata": {},
   "outputs": [],
   "source": [
    "knn_names.to_csv(\"knnResults.csv\", index = False)"
   ]
  },
  {
   "cell_type": "code",
   "execution_count": null,
   "metadata": {},
   "outputs": [],
   "source": []
  }
 ],
 "metadata": {
  "kernelspec": {
   "display_name": "Python 3",
   "language": "python",
   "name": "python3"
  },
  "language_info": {
   "codemirror_mode": {
    "name": "ipython",
    "version": 3
   },
   "file_extension": ".py",
   "mimetype": "text/x-python",
   "name": "python",
   "nbconvert_exporter": "python",
   "pygments_lexer": "ipython3",
   "version": "3.8.5"
  }
 },
 "nbformat": 4,
 "nbformat_minor": 4
}
