{
 "cells": [
  {
   "cell_type": "markdown",
   "metadata": {
    "colab_type": "text",
    "id": "2EN4gkL_Lo5E"
   },
   "source": [
    "# Simple presidential poll aggregator & election forecaster\n",
    "\n",
    "A basic model for aggregating presidential polls and forecasting the 2020 presidential election by simulation. This model is over-simplified by design to illustrate the core features of a simulation-based forecasting model, and eliminate as much complexity -- and analyst input -- as possible. The model relies on polls only. It is little more than a poll aggregator with some options for expressing uncertainty in the polls.\n",
    "\n",
    "The model produces three sets of estimates:\n",
    "\n",
    "1. Simulated distributions of state popular vote outcomes that are consistent with the recent polling data\n",
    "1. A simulated distribution of electoral vote outcomes that are consistent with the recent polling data\n",
    "1. Simulated probabilities of Biden/Trump winning each state and the electoral vote\n",
    "\n",
    "The algorithm:\n",
    "\n",
    "1. Get state and national level polling data. Convert head-to-head poll results to their major-party vote shares. This excludes third party candidates and assumes undecideds \"break\" in proportion to the poll results. A poll showing Biden 45%-Trump 40% is treated as Biden 45/85 = 53% and Trump 40/85 = 47%.\n",
    "1. If a state has been polled in the past two months, use the average of the state's polls as our best guess about the election outcome. There are no adjustments for house effects, mode effects, historical factors, \"reversion\" to a closer outcome by Election Day, etc. Polls are treated has having \"happened\" on the last day they were conducting interviews.\n",
    "1. If a state has **not** been polled in the past two months, use as our best guess about the election outcome the state's 2016 election result plus the national shift to Biden based on national polls in 2020 (uniform swing).\n",
    "1. Assume that the state vote estimates have an uncertainty range of plus-minus 10% regardless of how much polling has happened in the state. This is based on research in [this paper](https://votamatic.org/wp-content/uploads/2015/08/2015LauderdaleLinzerIJF.pdf). It can be adjusted with the \"state_uncertainty_sd\" parameter.\n",
    "1. Assume that all of the states could have an additional national-level \"correlated\" error due to all polling being systematically biased by a certain amount. This is a national bias, not regional, clustered, etc. If the state polls are unbiased, on average, then the national error is zero. Assume the national bias will probably not exceed 6% in either direction. This can be adjusted with the \"national_uncertainty_sd\" parameter.\n",
    "1. Simulate one national election:\n",
    "  1. Sample an election result (Biden vote share) for each state from a normal distribution, with mean equal to the state's vote estimate, and standard deviation of 5%, then add a constant national error to every state with mean 0 and standard deviation of 3% in each simulation.\n",
    "  1. The candidate who gets over 50% of the major-party vote in a state wins all of that state's electoral votes. (No adjustment for Maine/Nebraska.)\n",
    "  1. The candidate who wins 270 electoral votes wins the election.\n",
    "1. Repeat the simulation 10,000 times to get the chance that Biden/Trump will win the election.\n",
    "\n",
    "Data source: The Economist https://projects.economist.com/us-2020-forecast/president\n",
    "\n",
    "Drew Linzer \\\n",
    "https://twitter.com/drewlinzer\n",
    "\n",
    "August 10, 2020"
   ]
  },
  {
   "cell_type": "code",
   "execution_count": 1,
   "metadata": {
    "colab": {
     "base_uri": "https://localhost:8080/",
     "height": 34
    },
    "colab_type": "code",
    "id": "8m4maJAgLo5H",
    "outputId": "ed7ae194-693c-4e59-c2b1-caf3eb7db2ed"
   },
   "outputs": [
    {
     "name": "stdout",
     "output_type": "stream",
     "text": [
      "Populating the interactive namespace from numpy and matplotlib\n"
     ]
    }
   ],
   "source": [
    "%pylab inline\n",
    "\n",
    "import pandas as pd\n",
    "from pandas import DataFrame, Series\n",
    "from pandas.tseries.offsets import DateOffset\n",
    "import numpy as np"
   ]
  },
  {
   "cell_type": "markdown",
   "metadata": {
    "colab_type": "text",
    "id": "QCZj3X-FLo5d"
   },
   "source": [
    "## Load polling data from The Economist archive\n",
    "\n",
    "- Discard polls older than two months\n",
    "- Convert Biden and Trump to major-party vote share"
   ]
  },
  {
   "cell_type": "code",
   "execution_count": 2,
   "metadata": {},
   "outputs": [],
   "source": [
    "polls = pd.read_csv('https://docs.google.com/spreadsheets/d/e/2PACX-1vQ56fySJKLL18Lipu1_i3ID9JE06voJEz2EXm6JW4Vh11zmndyTwejMavuNntzIWLY0RyhA1UsVEen0/pub?gid=0&single=true&output=csv')"
   ]
  },
  {
   "cell_type": "code",
   "execution_count": 3,
   "metadata": {
    "scrolled": true
   },
   "outputs": [
    {
     "data": {
      "text/html": [
       "<div>\n",
       "<style scoped>\n",
       "    .dataframe tbody tr th:only-of-type {\n",
       "        vertical-align: middle;\n",
       "    }\n",
       "\n",
       "    .dataframe tbody tr th {\n",
       "        vertical-align: top;\n",
       "    }\n",
       "\n",
       "    .dataframe thead th {\n",
       "        text-align: right;\n",
       "    }\n",
       "</style>\n",
       "<table border=\"1\" class=\"dataframe\">\n",
       "  <thead>\n",
       "    <tr style=\"text-align: right;\">\n",
       "      <th></th>\n",
       "      <th>state</th>\n",
       "      <th>pollster</th>\n",
       "      <th>sponsor</th>\n",
       "      <th>start.date</th>\n",
       "      <th>end.date</th>\n",
       "      <th>entry.date.time..et.</th>\n",
       "      <th>number.of.observations</th>\n",
       "      <th>population</th>\n",
       "      <th>mode</th>\n",
       "      <th>biden</th>\n",
       "      <th>trump</th>\n",
       "      <th>biden_margin</th>\n",
       "      <th>other</th>\n",
       "      <th>undecided</th>\n",
       "      <th>url</th>\n",
       "      <th>include</th>\n",
       "      <th>notes</th>\n",
       "    </tr>\n",
       "  </thead>\n",
       "  <tbody>\n",
       "    <tr>\n",
       "      <th>0</th>\n",
       "      <td>MN</td>\n",
       "      <td>Mason-Dixon Polling &amp; Strategy</td>\n",
       "      <td>NaN</td>\n",
       "      <td>9/21/2020</td>\n",
       "      <td>9/23/2020</td>\n",
       "      <td>9/26/2020 15:18:00</td>\n",
       "      <td>800</td>\n",
       "      <td>lv</td>\n",
       "      <td>Live Phone</td>\n",
       "      <td>48.0</td>\n",
       "      <td>42.0</td>\n",
       "      <td>6.0</td>\n",
       "      <td>NaN</td>\n",
       "      <td>NaN</td>\n",
       "      <td>https://www.mprnews.org/story/2020/09/26/minne...</td>\n",
       "      <td>True</td>\n",
       "      <td>NaN</td>\n",
       "    </tr>\n",
       "    <tr>\n",
       "      <th>1</th>\n",
       "      <td>--</td>\n",
       "      <td>Ipsos</td>\n",
       "      <td>Reuters</td>\n",
       "      <td>9/22/2020</td>\n",
       "      <td>9/24/2020</td>\n",
       "      <td>9/25/2020 18:22:00</td>\n",
       "      <td>934</td>\n",
       "      <td>lv</td>\n",
       "      <td>Online</td>\n",
       "      <td>50.0</td>\n",
       "      <td>41.0</td>\n",
       "      <td>9.0</td>\n",
       "      <td>NaN</td>\n",
       "      <td>NaN</td>\n",
       "      <td>https://www.westfargopioneer.com/news/governme...</td>\n",
       "      <td>True</td>\n",
       "      <td>NaN</td>\n",
       "    </tr>\n",
       "    <tr>\n",
       "      <th>2</th>\n",
       "      <td>--</td>\n",
       "      <td>Ipsos</td>\n",
       "      <td>Reuters</td>\n",
       "      <td>9/18/2020</td>\n",
       "      <td>9/22/2020</td>\n",
       "      <td>9/25/2020 18:22:00</td>\n",
       "      <td>889</td>\n",
       "      <td>lv</td>\n",
       "      <td>Onlilne</td>\n",
       "      <td>50.0</td>\n",
       "      <td>42.0</td>\n",
       "      <td>8.0</td>\n",
       "      <td>NaN</td>\n",
       "      <td>NaN</td>\n",
       "      <td>https://www.ipsos.com/sites/default/files/ct/n...</td>\n",
       "      <td>True</td>\n",
       "      <td>NaN</td>\n",
       "    </tr>\n",
       "    <tr>\n",
       "      <th>3</th>\n",
       "      <td>WI</td>\n",
       "      <td>Hart Research Associates</td>\n",
       "      <td>NaN</td>\n",
       "      <td>9/17/2020</td>\n",
       "      <td>9/19/2020</td>\n",
       "      <td>9/25/2020 18:22:00</td>\n",
       "      <td>400</td>\n",
       "      <td>lv</td>\n",
       "      <td>Live Phone</td>\n",
       "      <td>51.0</td>\n",
       "      <td>44.0</td>\n",
       "      <td>7.0</td>\n",
       "      <td>NaN</td>\n",
       "      <td>NaN</td>\n",
       "      <td>https://www.hrc.org/parts/HRC-Poll-917-202020.pdf</td>\n",
       "      <td>True</td>\n",
       "      <td>NaN</td>\n",
       "    </tr>\n",
       "    <tr>\n",
       "      <th>4</th>\n",
       "      <td>PA</td>\n",
       "      <td>Hart Research Associates</td>\n",
       "      <td>NaN</td>\n",
       "      <td>9/17/2020</td>\n",
       "      <td>9/19/2020</td>\n",
       "      <td>9/25/2020 18:22:00</td>\n",
       "      <td>400</td>\n",
       "      <td>lv</td>\n",
       "      <td>Live Phone</td>\n",
       "      <td>53.0</td>\n",
       "      <td>42.0</td>\n",
       "      <td>11.0</td>\n",
       "      <td>NaN</td>\n",
       "      <td>NaN</td>\n",
       "      <td>https://www.hrc.org/parts/HRC-Poll-917-202020.pdf</td>\n",
       "      <td>True</td>\n",
       "      <td>NaN</td>\n",
       "    </tr>\n",
       "  </tbody>\n",
       "</table>\n",
       "</div>"
      ],
      "text/plain": [
       "  state                        pollster  sponsor start.date   end.date  \\\n",
       "0    MN  Mason-Dixon Polling & Strategy      NaN  9/21/2020  9/23/2020   \n",
       "1    --                           Ipsos  Reuters  9/22/2020  9/24/2020   \n",
       "2    --                           Ipsos  Reuters  9/18/2020  9/22/2020   \n",
       "3    WI        Hart Research Associates      NaN  9/17/2020  9/19/2020   \n",
       "4    PA        Hart Research Associates      NaN  9/17/2020  9/19/2020   \n",
       "\n",
       "  entry.date.time..et.  number.of.observations population        mode  biden  \\\n",
       "0   9/26/2020 15:18:00                     800         lv  Live Phone   48.0   \n",
       "1   9/25/2020 18:22:00                     934         lv      Online   50.0   \n",
       "2   9/25/2020 18:22:00                     889         lv     Onlilne   50.0   \n",
       "3   9/25/2020 18:22:00                     400         lv  Live Phone   51.0   \n",
       "4   9/25/2020 18:22:00                     400         lv  Live Phone   53.0   \n",
       "\n",
       "   trump  biden_margin  other  undecided  \\\n",
       "0   42.0           6.0    NaN        NaN   \n",
       "1   41.0           9.0    NaN        NaN   \n",
       "2   42.0           8.0    NaN        NaN   \n",
       "3   44.0           7.0    NaN        NaN   \n",
       "4   42.0          11.0    NaN        NaN   \n",
       "\n",
       "                                                 url include notes  \n",
       "0  https://www.mprnews.org/story/2020/09/26/minne...    True   NaN  \n",
       "1  https://www.westfargopioneer.com/news/governme...    True   NaN  \n",
       "2  https://www.ipsos.com/sites/default/files/ct/n...    True   NaN  \n",
       "3  https://www.hrc.org/parts/HRC-Poll-917-202020.pdf    True   NaN  \n",
       "4  https://www.hrc.org/parts/HRC-Poll-917-202020.pdf    True   NaN  "
      ]
     },
     "execution_count": 3,
     "metadata": {},
     "output_type": "execute_result"
    }
   ],
   "source": [
    "polls.head()"
   ]
  },
  {
   "cell_type": "code",
   "execution_count": null,
   "metadata": {},
   "outputs": [],
   "source": []
  },
  {
   "cell_type": "code",
   "execution_count": 4,
   "metadata": {
    "colab": {
     "base_uri": "https://localhost:8080/",
     "height": 34
    },
    "colab_type": "code",
    "id": "0k6fhKqKLo5e",
    "outputId": "f4ed7b32-5cd8-45ec-8042-d85f2e7512e2"
   },
   "outputs": [],
   "source": [
    "polls['state'] = polls.state.replace({'--': 'national'})"
   ]
  },
  {
   "cell_type": "code",
   "execution_count": 5,
   "metadata": {
    "colab": {
     "base_uri": "https://localhost:8080/",
     "height": 34
    },
    "colab_type": "code",
    "id": "0k6fhKqKLo5e",
    "outputId": "f4ed7b32-5cd8-45ec-8042-d85f2e7512e2"
   },
   "outputs": [
    {
     "name": "stdout",
     "output_type": "stream",
     "text": [
      "Polls within the past 2 months: 421\n"
     ]
    }
   ],
   "source": [
    "polls = polls[pd.to_datetime(polls['end.date']) > (pd.to_datetime(\"today\") - DateOffset(months=2))]\n",
    "\n",
    "polls['biden20'] = polls['biden']/(polls['biden'] + polls['trump'])\n",
    "polls['trump20'] = polls['trump']/(polls['biden'] + polls['trump'])\n",
    "\n",
    "print('Polls within the past 2 months: %s'%polls.shape[0])"
   ]
  },
  {
   "cell_type": "code",
   "execution_count": 6,
   "metadata": {},
   "outputs": [],
   "source": [
    "polls['end.date.dt'] = pd.to_datetime(polls['end.date'])"
   ]
  },
  {
   "cell_type": "code",
   "execution_count": 7,
   "metadata": {
    "colab": {
     "base_uri": "https://localhost:8080/",
     "height": 452
    },
    "colab_type": "code",
    "id": "twZieeWfLo5l",
    "outputId": "4694f80d-aa1a-4fc5-f837-61bbbaab85b2"
   },
   "outputs": [
    {
     "data": {
      "text/html": [
       "<div>\n",
       "<style scoped>\n",
       "    .dataframe tbody tr th:only-of-type {\n",
       "        vertical-align: middle;\n",
       "    }\n",
       "\n",
       "    .dataframe tbody tr th {\n",
       "        vertical-align: top;\n",
       "    }\n",
       "\n",
       "    .dataframe thead th {\n",
       "        text-align: right;\n",
       "    }\n",
       "</style>\n",
       "<table border=\"1\" class=\"dataframe\">\n",
       "  <thead>\n",
       "    <tr style=\"text-align: right;\">\n",
       "      <th></th>\n",
       "      <th>state</th>\n",
       "      <th>pollster</th>\n",
       "      <th>sponsor</th>\n",
       "      <th>start.date</th>\n",
       "      <th>end.date</th>\n",
       "      <th>entry.date.time..et.</th>\n",
       "      <th>number.of.observations</th>\n",
       "      <th>population</th>\n",
       "      <th>mode</th>\n",
       "      <th>biden</th>\n",
       "      <th>trump</th>\n",
       "      <th>biden_margin</th>\n",
       "      <th>other</th>\n",
       "      <th>undecided</th>\n",
       "      <th>url</th>\n",
       "      <th>include</th>\n",
       "      <th>notes</th>\n",
       "      <th>biden20</th>\n",
       "      <th>trump20</th>\n",
       "      <th>end.date.dt</th>\n",
       "    </tr>\n",
       "  </thead>\n",
       "  <tbody>\n",
       "    <tr>\n",
       "      <th>1</th>\n",
       "      <td>national</td>\n",
       "      <td>Ipsos</td>\n",
       "      <td>Reuters</td>\n",
       "      <td>9/22/2020</td>\n",
       "      <td>9/24/2020</td>\n",
       "      <td>9/25/2020 18:22:00</td>\n",
       "      <td>934</td>\n",
       "      <td>lv</td>\n",
       "      <td>Online</td>\n",
       "      <td>50.0</td>\n",
       "      <td>41.0</td>\n",
       "      <td>9.0</td>\n",
       "      <td>NaN</td>\n",
       "      <td>NaN</td>\n",
       "      <td>https://www.westfargopioneer.com/news/governme...</td>\n",
       "      <td>True</td>\n",
       "      <td>NaN</td>\n",
       "      <td>0.549451</td>\n",
       "      <td>0.450549</td>\n",
       "      <td>2020-09-24</td>\n",
       "    </tr>\n",
       "    <tr>\n",
       "      <th>17</th>\n",
       "      <td>MN</td>\n",
       "      <td>Suffolk University</td>\n",
       "      <td>NaN</td>\n",
       "      <td>9/20/2020</td>\n",
       "      <td>9/24/2020</td>\n",
       "      <td>9/25/2020 13:19:00</td>\n",
       "      <td>500</td>\n",
       "      <td>lv</td>\n",
       "      <td>Live Phone</td>\n",
       "      <td>47.0</td>\n",
       "      <td>40.0</td>\n",
       "      <td>7.0</td>\n",
       "      <td>4.0</td>\n",
       "      <td>NaN</td>\n",
       "      <td>https://www.suffolk.edu/-/media/suffolk/docume...</td>\n",
       "      <td>True</td>\n",
       "      <td>NaN</td>\n",
       "      <td>0.540230</td>\n",
       "      <td>0.459770</td>\n",
       "      <td>2020-09-24</td>\n",
       "    </tr>\n",
       "    <tr>\n",
       "      <th>0</th>\n",
       "      <td>MN</td>\n",
       "      <td>Mason-Dixon Polling &amp; Strategy</td>\n",
       "      <td>NaN</td>\n",
       "      <td>9/21/2020</td>\n",
       "      <td>9/23/2020</td>\n",
       "      <td>9/26/2020 15:18:00</td>\n",
       "      <td>800</td>\n",
       "      <td>lv</td>\n",
       "      <td>Live Phone</td>\n",
       "      <td>48.0</td>\n",
       "      <td>42.0</td>\n",
       "      <td>6.0</td>\n",
       "      <td>NaN</td>\n",
       "      <td>NaN</td>\n",
       "      <td>https://www.mprnews.org/story/2020/09/26/minne...</td>\n",
       "      <td>True</td>\n",
       "      <td>NaN</td>\n",
       "      <td>0.533333</td>\n",
       "      <td>0.466667</td>\n",
       "      <td>2020-09-23</td>\n",
       "    </tr>\n",
       "    <tr>\n",
       "      <th>21</th>\n",
       "      <td>national</td>\n",
       "      <td>YouGov</td>\n",
       "      <td>Yahoo</td>\n",
       "      <td>9/21/2020</td>\n",
       "      <td>9/23/2020</td>\n",
       "      <td>9/24/2020 14:18:00</td>\n",
       "      <td>1125</td>\n",
       "      <td>lv</td>\n",
       "      <td>Live Phone</td>\n",
       "      <td>49.0</td>\n",
       "      <td>44.0</td>\n",
       "      <td>5.0</td>\n",
       "      <td>NaN</td>\n",
       "      <td>NaN</td>\n",
       "      <td>https://docs.cdn.yougov.com/o6p3vjhvnt/2020092...</td>\n",
       "      <td>True</td>\n",
       "      <td>NaN</td>\n",
       "      <td>0.526882</td>\n",
       "      <td>0.473118</td>\n",
       "      <td>2020-09-23</td>\n",
       "    </tr>\n",
       "    <tr>\n",
       "      <th>20</th>\n",
       "      <td>NV</td>\n",
       "      <td>Fox News/Beacon Research/Shaw &amp; Co. Research</td>\n",
       "      <td>NaN</td>\n",
       "      <td>9/20/2020</td>\n",
       "      <td>9/23/2020</td>\n",
       "      <td>9/24/2020 19:18:00</td>\n",
       "      <td>810</td>\n",
       "      <td>lv</td>\n",
       "      <td>Live Phone</td>\n",
       "      <td>52.0</td>\n",
       "      <td>41.0</td>\n",
       "      <td>11.0</td>\n",
       "      <td>NaN</td>\n",
       "      <td>NaN</td>\n",
       "      <td>https://static.foxnews.com/foxnews.com/content...</td>\n",
       "      <td>True</td>\n",
       "      <td>NaN</td>\n",
       "      <td>0.559140</td>\n",
       "      <td>0.440860</td>\n",
       "      <td>2020-09-23</td>\n",
       "    </tr>\n",
       "  </tbody>\n",
       "</table>\n",
       "</div>"
      ],
      "text/plain": [
       "       state                                      pollster  sponsor  \\\n",
       "1   national                                         Ipsos  Reuters   \n",
       "17        MN                            Suffolk University      NaN   \n",
       "0         MN                Mason-Dixon Polling & Strategy      NaN   \n",
       "21  national                                        YouGov    Yahoo   \n",
       "20        NV  Fox News/Beacon Research/Shaw & Co. Research      NaN   \n",
       "\n",
       "   start.date   end.date entry.date.time..et.  number.of.observations  \\\n",
       "1   9/22/2020  9/24/2020   9/25/2020 18:22:00                     934   \n",
       "17  9/20/2020  9/24/2020   9/25/2020 13:19:00                     500   \n",
       "0   9/21/2020  9/23/2020   9/26/2020 15:18:00                     800   \n",
       "21  9/21/2020  9/23/2020   9/24/2020 14:18:00                    1125   \n",
       "20  9/20/2020  9/23/2020   9/24/2020 19:18:00                     810   \n",
       "\n",
       "   population        mode  biden  trump  biden_margin  other  undecided  \\\n",
       "1          lv      Online   50.0   41.0           9.0    NaN        NaN   \n",
       "17         lv  Live Phone   47.0   40.0           7.0    4.0        NaN   \n",
       "0          lv  Live Phone   48.0   42.0           6.0    NaN        NaN   \n",
       "21         lv  Live Phone   49.0   44.0           5.0    NaN        NaN   \n",
       "20         lv  Live Phone   52.0   41.0          11.0    NaN        NaN   \n",
       "\n",
       "                                                  url include notes   biden20  \\\n",
       "1   https://www.westfargopioneer.com/news/governme...    True   NaN  0.549451   \n",
       "17  https://www.suffolk.edu/-/media/suffolk/docume...    True   NaN  0.540230   \n",
       "0   https://www.mprnews.org/story/2020/09/26/minne...    True   NaN  0.533333   \n",
       "21  https://docs.cdn.yougov.com/o6p3vjhvnt/2020092...    True   NaN  0.526882   \n",
       "20  https://static.foxnews.com/foxnews.com/content...    True   NaN  0.559140   \n",
       "\n",
       "     trump20 end.date.dt  \n",
       "1   0.450549  2020-09-24  \n",
       "17  0.459770  2020-09-24  \n",
       "0   0.466667  2020-09-23  \n",
       "21  0.473118  2020-09-23  \n",
       "20  0.440860  2020-09-23  "
      ]
     },
     "execution_count": 7,
     "metadata": {},
     "output_type": "execute_result"
    }
   ],
   "source": [
    "polls.sort_values('end.date.dt', ascending = False).head()"
   ]
  },
  {
   "cell_type": "markdown",
   "metadata": {
    "colab_type": "text",
    "id": "xv61Mt4KLo5z"
   },
   "source": [
    "## Average the polls in each state, and nationally"
   ]
  },
  {
   "cell_type": "code",
   "execution_count": 8,
   "metadata": {
    "colab": {
     "base_uri": "https://localhost:8080/",
     "height": 34
    },
    "colab_type": "code",
    "id": "_OfrgSXYLo50",
    "outputId": "4d1bdfec-8c1c-4012-b887-9be6ccb8b7cd"
   },
   "outputs": [
    {
     "name": "stdout",
     "output_type": "stream",
     "text": [
      "Number of states with recent polls: 39\n"
     ]
    }
   ],
   "source": [
    "state_mean = {}\n",
    "\n",
    "for state in polls.state.unique():\n",
    "    state_polls = polls[polls.state == state]\n",
    "    state_mean[state] = {'biden20': state_polls.biden20.mean(),\n",
    "                         'trump20': state_polls.trump20.mean()}\n",
    "\n",
    "state_mean = DataFrame(state_mean).T.sort_index()\n",
    "print('Number of states with recent polls: %s'%(state_mean.shape[0]-1))"
   ]
  },
  {
   "cell_type": "code",
   "execution_count": 9,
   "metadata": {
    "colab": {
     "base_uri": "https://localhost:8080/",
     "height": 206
    },
    "colab_type": "code",
    "id": "q8KvO9lILo55",
    "outputId": "379ddc69-0c5b-4609-9a2d-fcf647632ff8"
   },
   "outputs": [
    {
     "data": {
      "text/html": [
       "<div>\n",
       "<style scoped>\n",
       "    .dataframe tbody tr th:only-of-type {\n",
       "        vertical-align: middle;\n",
       "    }\n",
       "\n",
       "    .dataframe tbody tr th {\n",
       "        vertical-align: top;\n",
       "    }\n",
       "\n",
       "    .dataframe thead th {\n",
       "        text-align: right;\n",
       "    }\n",
       "</style>\n",
       "<table border=\"1\" class=\"dataframe\">\n",
       "  <thead>\n",
       "    <tr style=\"text-align: right;\">\n",
       "      <th></th>\n",
       "      <th>biden20</th>\n",
       "      <th>trump20</th>\n",
       "    </tr>\n",
       "  </thead>\n",
       "  <tbody>\n",
       "    <tr>\n",
       "      <th>VA</th>\n",
       "      <td>0.559882</td>\n",
       "      <td>0.440118</td>\n",
       "    </tr>\n",
       "    <tr>\n",
       "      <th>VT</th>\n",
       "      <td>0.636364</td>\n",
       "      <td>0.363636</td>\n",
       "    </tr>\n",
       "    <tr>\n",
       "      <th>WA</th>\n",
       "      <td>0.652955</td>\n",
       "      <td>0.347045</td>\n",
       "    </tr>\n",
       "    <tr>\n",
       "      <th>WI</th>\n",
       "      <td>0.537575</td>\n",
       "      <td>0.462425</td>\n",
       "    </tr>\n",
       "    <tr>\n",
       "      <th>national</th>\n",
       "      <td>0.548316</td>\n",
       "      <td>0.451684</td>\n",
       "    </tr>\n",
       "  </tbody>\n",
       "</table>\n",
       "</div>"
      ],
      "text/plain": [
       "           biden20   trump20\n",
       "VA        0.559882  0.440118\n",
       "VT        0.636364  0.363636\n",
       "WA        0.652955  0.347045\n",
       "WI        0.537575  0.462425\n",
       "national  0.548316  0.451684"
      ]
     },
     "execution_count": 9,
     "metadata": {},
     "output_type": "execute_result"
    }
   ],
   "source": [
    "state_mean.tail()"
   ]
  },
  {
   "cell_type": "markdown",
   "metadata": {
    "colab_type": "text",
    "id": "qu4TQcZCLo6D"
   },
   "source": [
    "## Fill in values for states with no polls\n",
    "\n",
    "- Calculate national swing to Biden from 2016 to 2020\n",
    "- Add that to Clinton's 2016 result for states with no polls"
   ]
  },
  {
   "cell_type": "code",
   "execution_count": 10,
   "metadata": {
    "colab": {
     "base_uri": "https://localhost:8080/",
     "height": 34
    },
    "colab_type": "code",
    "id": "tNdVoRKcLo6D",
    "outputId": "0d162803-6544-4cec-80d2-cd55f6e461df"
   },
   "outputs": [
    {
     "name": "stdout",
     "output_type": "stream",
     "text": [
      "National swing from Clinton 2016 to Biden 2020: 0.0372\n"
     ]
    }
   ],
   "source": [
    "clinton16_national = 48.2/(48.2 + 46.1)\n",
    "\n",
    "national_swing_to_biden = state_mean.biden20['national'] - clinton16_national\n",
    "\n",
    "print('National swing from Clinton 2016 to Biden 2020: %s'%national_swing_to_biden.round(4))"
   ]
  },
  {
   "cell_type": "code",
   "execution_count": 11,
   "metadata": {
    "colab": {
     "base_uri": "https://localhost:8080/",
     "height": 238
    },
    "colab_type": "code",
    "id": "h6hV3XeSLo6J",
    "outputId": "776506c6-72f3-49cd-9f7a-c90c49248a6c"
   },
   "outputs": [
    {
     "data": {
      "text/html": [
       "<div>\n",
       "<style scoped>\n",
       "    .dataframe tbody tr th:only-of-type {\n",
       "        vertical-align: middle;\n",
       "    }\n",
       "\n",
       "    .dataframe tbody tr th {\n",
       "        vertical-align: top;\n",
       "    }\n",
       "\n",
       "    .dataframe thead th {\n",
       "        text-align: right;\n",
       "    }\n",
       "</style>\n",
       "<table border=\"1\" class=\"dataframe\">\n",
       "  <thead>\n",
       "    <tr style=\"text-align: right;\">\n",
       "      <th></th>\n",
       "      <th>year</th>\n",
       "      <th>total_votes</th>\n",
       "      <th>dem</th>\n",
       "      <th>rep</th>\n",
       "      <th>other</th>\n",
       "      <th>clinton16</th>\n",
       "      <th>trump16</th>\n",
       "    </tr>\n",
       "    <tr>\n",
       "      <th>state</th>\n",
       "      <th></th>\n",
       "      <th></th>\n",
       "      <th></th>\n",
       "      <th></th>\n",
       "      <th></th>\n",
       "      <th></th>\n",
       "      <th></th>\n",
       "    </tr>\n",
       "  </thead>\n",
       "  <tbody>\n",
       "    <tr>\n",
       "      <th>AK</th>\n",
       "      <td>2016</td>\n",
       "      <td>318608</td>\n",
       "      <td>0.365509</td>\n",
       "      <td>0.512815</td>\n",
       "      <td>0.092797</td>\n",
       "      <td>0.416143</td>\n",
       "      <td>0.583857</td>\n",
       "    </tr>\n",
       "    <tr>\n",
       "      <th>AL</th>\n",
       "      <td>2016</td>\n",
       "      <td>2123372</td>\n",
       "      <td>0.343579</td>\n",
       "      <td>0.620831</td>\n",
       "      <td>0.025364</td>\n",
       "      <td>0.356259</td>\n",
       "      <td>0.643741</td>\n",
       "    </tr>\n",
       "    <tr>\n",
       "      <th>AR</th>\n",
       "      <td>2016</td>\n",
       "      <td>1130635</td>\n",
       "      <td>0.336531</td>\n",
       "      <td>0.605741</td>\n",
       "      <td>0.057728</td>\n",
       "      <td>0.357149</td>\n",
       "      <td>0.642851</td>\n",
       "    </tr>\n",
       "    <tr>\n",
       "      <th>AZ</th>\n",
       "      <td>2016</td>\n",
       "      <td>2573165</td>\n",
       "      <td>0.451260</td>\n",
       "      <td>0.486716</td>\n",
       "      <td>0.054669</td>\n",
       "      <td>0.481100</td>\n",
       "      <td>0.518900</td>\n",
       "    </tr>\n",
       "    <tr>\n",
       "      <th>CA</th>\n",
       "      <td>2016</td>\n",
       "      <td>14181595</td>\n",
       "      <td>0.617264</td>\n",
       "      <td>0.316171</td>\n",
       "      <td>0.058051</td>\n",
       "      <td>0.661282</td>\n",
       "      <td>0.338718</td>\n",
       "    </tr>\n",
       "  </tbody>\n",
       "</table>\n",
       "</div>"
      ],
      "text/plain": [
       "       year  total_votes       dem       rep     other  clinton16   trump16\n",
       "state                                                                      \n",
       "AK     2016       318608  0.365509  0.512815  0.092797   0.416143  0.583857\n",
       "AL     2016      2123372  0.343579  0.620831  0.025364   0.356259  0.643741\n",
       "AR     2016      1130635  0.336531  0.605741  0.057728   0.357149  0.642851\n",
       "AZ     2016      2573165  0.451260  0.486716  0.054669   0.481100  0.518900\n",
       "CA     2016     14181595  0.617264  0.316171  0.058051   0.661282  0.338718"
      ]
     },
     "execution_count": 11,
     "metadata": {},
     "output_type": "execute_result"
    }
   ],
   "source": [
    "election_data_url = 'https://raw.githubusercontent.com/TheEconomist/us-potus-model/master/data/potus_results_76_16.csv'\n",
    "election_data = pd.read_csv(election_data_url)\n",
    "election_2016 = election_data[election_data.year == 2016].set_index('state')\n",
    "election_2016['clinton16'] = election_2016['dem']/(election_2016['dem'] + election_2016['rep'])\n",
    "election_2016['trump16'] = election_2016['rep']/(election_2016['dem'] + election_2016['rep'])\n",
    "\n",
    "election_2016.head()"
   ]
  },
  {
   "cell_type": "code",
   "execution_count": 12,
   "metadata": {
    "colab": {
     "base_uri": "https://localhost:8080/",
     "height": 238
    },
    "colab_type": "code",
    "id": "feRGuhljLo6N",
    "outputId": "7b13f316-fcd4-4e02-99e1-7bce6f40bad0"
   },
   "outputs": [
    {
     "data": {
      "text/html": [
       "<div>\n",
       "<style scoped>\n",
       "    .dataframe tbody tr th:only-of-type {\n",
       "        vertical-align: middle;\n",
       "    }\n",
       "\n",
       "    .dataframe tbody tr th {\n",
       "        vertical-align: top;\n",
       "    }\n",
       "\n",
       "    .dataframe thead th {\n",
       "        text-align: right;\n",
       "    }\n",
       "</style>\n",
       "<table border=\"1\" class=\"dataframe\">\n",
       "  <thead>\n",
       "    <tr style=\"text-align: right;\">\n",
       "      <th></th>\n",
       "      <th>biden20</th>\n",
       "      <th>trump20</th>\n",
       "      <th>biden20_filled</th>\n",
       "      <th>trump20_filled</th>\n",
       "    </tr>\n",
       "    <tr>\n",
       "      <th>state</th>\n",
       "      <th></th>\n",
       "      <th></th>\n",
       "      <th></th>\n",
       "      <th></th>\n",
       "    </tr>\n",
       "  </thead>\n",
       "  <tbody>\n",
       "    <tr>\n",
       "      <th>AK</th>\n",
       "      <td>NaN</td>\n",
       "      <td>NaN</td>\n",
       "      <td>0.453324</td>\n",
       "      <td>0.546676</td>\n",
       "    </tr>\n",
       "    <tr>\n",
       "      <th>AL</th>\n",
       "      <td>0.430620</td>\n",
       "      <td>0.569380</td>\n",
       "      <td>0.430620</td>\n",
       "      <td>0.569380</td>\n",
       "    </tr>\n",
       "    <tr>\n",
       "      <th>AR</th>\n",
       "      <td>NaN</td>\n",
       "      <td>NaN</td>\n",
       "      <td>0.394330</td>\n",
       "      <td>0.605670</td>\n",
       "    </tr>\n",
       "    <tr>\n",
       "      <th>AZ</th>\n",
       "      <td>0.520655</td>\n",
       "      <td>0.479345</td>\n",
       "      <td>0.520655</td>\n",
       "      <td>0.479345</td>\n",
       "    </tr>\n",
       "    <tr>\n",
       "      <th>CA</th>\n",
       "      <td>0.671193</td>\n",
       "      <td>0.328807</td>\n",
       "      <td>0.671193</td>\n",
       "      <td>0.328807</td>\n",
       "    </tr>\n",
       "  </tbody>\n",
       "</table>\n",
       "</div>"
      ],
      "text/plain": [
       "        biden20   trump20  biden20_filled  trump20_filled\n",
       "state                                                    \n",
       "AK          NaN       NaN        0.453324        0.546676\n",
       "AL     0.430620  0.569380        0.430620        0.569380\n",
       "AR          NaN       NaN        0.394330        0.605670\n",
       "AZ     0.520655  0.479345        0.520655        0.479345\n",
       "CA     0.671193  0.328807        0.671193        0.328807"
      ]
     },
     "execution_count": 12,
     "metadata": {},
     "output_type": "execute_result"
    }
   ],
   "source": [
    "state_mean = state_mean.reindex(election_2016.index)\n",
    "\n",
    "state_mean['biden20_filled'] = [(election_2016.clinton16[state] + national_swing_to_biden) if pd.isnull(state_mean.biden20[state])\n",
    "                                else state_mean.biden20[state] for state in state_mean.index]\n",
    "\n",
    "state_mean['trump20_filled'] = [(election_2016.trump16[state] - national_swing_to_biden) if pd.isnull(state_mean.trump20[state])\n",
    "                                else state_mean.trump20[state] for state in state_mean.index]\n",
    "\n",
    "state_mean.head()"
   ]
  },
  {
   "cell_type": "markdown",
   "metadata": {
    "colab_type": "text",
    "id": "IQ_2ftLsLo6Y"
   },
   "source": [
    "## Visualize current poll aggregates"
   ]
  },
  {
   "cell_type": "code",
   "execution_count": 13,
   "metadata": {
    "colab": {
     "base_uri": "https://localhost:8080/",
     "height": 1000
    },
    "colab_type": "code",
    "id": "9Csf9sdlLo6Y",
    "outputId": "0be5c650-fd58-43f5-db4d-53af839f9070",
    "scrolled": false
   },
   "outputs": [
    {
     "data": {
      "image/png": "[encoded data removed]",
      "text/plain": [
       "<Figure size 576x1440 with 1 Axes>"
      ]
     },
     "metadata": {
      "needs_background": "light"
     },
     "output_type": "display_data"
    }
   ],
   "source": [
    "figsize(8,20)\n",
    "\n",
    "# Don't plot DC\n",
    "state_mean_sorted = (state_mean.sort_values('biden20_filled'))[:-1]\n",
    "\n",
    "plt.xlim(0.2,0.8)\n",
    "plt.title('Biden two-party vote share\\nPoll aggregate or uniform swing from 2016', fontsize = 14)\n",
    "plt.yticks(arange(50), state_mean_sorted.index, fontsize = 12)\n",
    "axvline(0.5, color = 'gray');\n",
    "\n",
    "plt.scatter(state_mean_sorted.biden20_filled, arange(50), color = 'blue');\n",
    "for i, state in enumerate(state_mean_sorted.index):\n",
    "    axhline(i, color = 'gray', alpha = 0.1);\n",
    "    text(state_mean_sorted.biden20_filled[state] + 0.01, i, \n",
    "         '%s%%'%(100*state_mean_sorted.biden20_filled[state]).round(1));"
   ]
  },
  {
   "cell_type": "markdown",
   "metadata": {
    "colab_type": "text",
    "id": "JLoPCapALo6f"
   },
   "source": [
    "## Simulate election outcome\n",
    "\n",
    "Increasing the amount of uncertainty in the state poll average and/or the national polling error shifts the probability of winning towards 0.5."
   ]
  },
  {
   "cell_type": "code",
   "execution_count": 14,
   "metadata": {
    "colab": {},
    "colab_type": "code",
    "id": "NV779jVJLo6g"
   },
   "outputs": [],
   "source": [
    "electoral_votes = DataFrame.from_dict({'AL': 9, 'AK': 3, 'AZ': 11, 'AR': 6, 'CA': 55, 'CO': 9,\n",
    "                                       'CT': 7, 'DE': 3, 'FL': 29, 'GA': 16, 'HI': 4, 'ID': 4,\n",
    "                                       'IL': 20, 'IN': 11, 'IA': 6, 'KS': 6, 'KY': 8, 'LA': 8,\n",
    "                                       'ME': 4, 'MD': 10, 'MA': 11, 'MI': 16, 'MN': 10, 'MS': 6,\n",
    "                                       'MO': 10, 'MT': 3, 'NE': 5, 'NV': 6, 'NH': 4, 'NJ': 14,\n",
    "                                       'NM': 5, 'NY': 29, 'NC': 15, 'ND': 3, 'OH': 18, 'OK': 7,\n",
    "                                       'OR': 7, 'PA': 20, 'RI': 4, 'SC': 9, 'SD': 3, 'TN': 11,\n",
    "                                       'TX': 38, 'UT': 6, 'VT': 3, 'VA': 13, 'WA': 12, 'WV': 5,\n",
    "                                       'WI': 10, 'WY': 3, 'DC': 3},\n",
    "                                      orient='index', columns = ['EV'])"
   ]
  },
  {
   "cell_type": "code",
   "execution_count": 15,
   "metadata": {
    "colab": {},
    "colab_type": "code",
    "id": "w8bRADozLo6k"
   },
   "outputs": [],
   "source": [
    "# Simulation settings\n",
    "number_of_simulations = 10000\n",
    "\n",
    "# Uncertainty in state forecasts, around poll average\n",
    "state_uncertainty_sd = 0.05\n",
    "\n",
    "# Uncertainty in national forecasts; correlated error with mean zero\n",
    "national_uncertainty_sd = 0.03"
   ]
  },
  {
   "cell_type": "code",
   "execution_count": 16,
   "metadata": {
    "colab": {},
    "colab_type": "code",
    "id": "3aMYg8mbLo6n"
   },
   "outputs": [],
   "source": [
    "biden_state_wins = Series(0, index = state_mean.index)\n",
    "biden_state_votes = DataFrame()\n",
    "biden_ev_sim = []\n",
    "\n",
    "for sim in arange(number_of_simulations):\n",
    "    # simulate 51 state-level election outcomes\n",
    "    national_error = np.random.normal(0, national_uncertainty_sd)\n",
    "    one_simulation = DataFrame({'state': state_mean.index,\n",
    "                                'biden_vote': np.random.normal(state_mean.biden20_filled, state_uncertainty_sd) +\n",
    "                                              national_error}).set_index('state')\n",
    "\n",
    "    # did Biden win each state in this simulation?\n",
    "    one_simulation['biden_win'] = (one_simulation.biden_vote > 0.5)+0\n",
    "    \n",
    "    # record simulation results\n",
    "    one_simulation = one_simulation.merge(electoral_votes, left_index = True, right_index = True)\n",
    "#    print(one_simulation)\n",
    "    biden_state_wins = biden_state_wins + one_simulation.biden_win\n",
    "#    print(biden_state_wins)\n",
    "    biden_state_votes = biden_state_votes.append(one_simulation.biden_vote)\n",
    "#    print(biden_state_votes)\n",
    "    biden_ev_sim = biden_ev_sim + [(one_simulation.biden_win * one_simulation.EV).sum()]\n",
    "#    print(biden_ev_sim)"
   ]
  },
  {
   "cell_type": "code",
   "execution_count": null,
   "metadata": {},
   "outputs": [],
   "source": []
  },
  {
   "cell_type": "code",
   "execution_count": null,
   "metadata": {},
   "outputs": [],
   "source": []
  },
  {
   "cell_type": "markdown",
   "metadata": {
    "colab_type": "text",
    "id": "1woqcAbZLo6s"
   },
   "source": [
    "## Visualize simulation results and chance of winning each state and nationally\n",
    "\n",
    "- Black line: The result needed to win\n",
    "- Red line: Simulation average"
   ]
  },
  {
   "cell_type": "code",
   "execution_count": 17,
   "metadata": {
    "colab": {
     "base_uri": "https://localhost:8080/",
     "height": 407
    },
    "colab_type": "code",
    "id": "yedrk_dZLo6t",
    "outputId": "2520019e-f17c-440f-c8d7-e607bae139a3"
   },
   "outputs": [
    {
     "data": {
      "image/png": "[encoded data removed]",
      "text/plain": [
       "<Figure size 720x432 with 1 Axes>"
      ]
     },
     "metadata": {
      "needs_background": "light"
     },
     "output_type": "display_data"
    }
   ],
   "source": [
    "figsize(10,6)\n",
    "plt.hist(biden_ev_sim, bins = arange(100, 538, 1), density = True);\n",
    "biden_ev_forecast = int(np.array(biden_ev_sim).mean())\n",
    "plt.title('Distribution of simulated Biden electoral votes\\nBiden EV mean: %s; Win probability: %s'%\n",
    "          (biden_ev_forecast, (np.array(biden_ev_sim) > 269).mean().round(3)), fontsize = 14);\n",
    "axvline(269, color = 'black');\n",
    "axvline(biden_ev_forecast, color = 'red');"
   ]
  },
  {
   "cell_type": "code",
   "execution_count": 18,
   "metadata": {
    "colab": {
     "base_uri": "https://localhost:8080/",
     "height": 399
    },
    "colab_type": "code",
    "id": "Zog0k6N-Lo6w",
    "outputId": "2d36daab-564f-402f-abc5-f58a56c3c878"
   },
   "outputs": [
    {
     "data": {
      "image/png": "[encoded data removed]",
      "text/plain": [
       "<Figure size 720x432 with 1 Axes>"
      ]
     },
     "metadata": {
      "needs_background": "light"
     },
     "output_type": "display_data"
    }
   ],
   "source": [
    "figsize(10,6)\n",
    "plt.xlim(0.25, 0.75)\n",
    "plt.xlabel('Biden two-party vote share', fontsize = 14)\n",
    "plt.ylabel('Biden win probability', fontsize = 14)\n",
    "\n",
    "biden_state_win_prob = biden_state_wins / number_of_simulations\n",
    "for state in state_mean.index:\n",
    "    if state != 'DC':\n",
    "        plt.text(biden_state_votes.mean()[state],\n",
    "                 biden_state_win_prob[state],\n",
    "                 state, ha = 'center', va = 'center', \n",
    "                 fontsize = 14, alpha = 0.7)\n",
    "        \n",
    "axvline(0.5, color = 'lightgray');\n",
    "axhline(0.5, color = 'lightgray');"
   ]
  },
  {
   "cell_type": "code",
   "execution_count": 19,
   "metadata": {
    "colab": {
     "base_uri": "https://localhost:8080/",
     "height": 1000
    },
    "colab_type": "code",
    "id": "nhDaRlZ0Lo60",
    "outputId": "c659069e-70dd-49b7-d35b-637cbe2b637d"
   },
   "outputs": [
    {
     "data": {
      "image/png": "[encoded data removed]",
      "text/plain": [
       "<Figure size 576x1440 with 1 Axes>"
      ]
     },
     "metadata": {
      "needs_background": "light"
     },
     "output_type": "display_data"
    }
   ],
   "source": [
    "figsize(8,20)\n",
    "\n",
    "biden_state_votes_sorted = biden_state_votes.mean().sort_values()[:-1]\n",
    "\n",
    "plt.xlim(0,1)\n",
    "plt.title('Biden two-party vote share, simluated with 95% uncertainty', fontsize = 14)\n",
    "plt.yticks(arange(50), biden_state_votes_sorted.index, fontsize = 12)\n",
    "axvline(0.5, color = 'gray');\n",
    "\n",
    "plt.scatter(biden_state_votes_sorted, arange(50), color = 'blue');\n",
    "for i, state in enumerate(biden_state_votes_sorted.index):\n",
    "    plt.plot([biden_state_votes[state].quantile(0.025), \n",
    "              biden_state_votes[state].quantile(0.975)],\n",
    "              [i, i], color = 'blue');\n",
    "    axhline(i, color = 'gray', alpha = 0.1);"
   ]
  },
  {
   "cell_type": "code",
   "execution_count": 20,
   "metadata": {
    "colab": {
     "base_uri": "https://localhost:8080/",
     "height": 407
    },
    "colab_type": "code",
    "id": "15epriUyLo64",
    "outputId": "1b1a95be-5528-4c1d-fb7c-9e3083571035"
   },
   "outputs": [
    {
     "data": {
      "image/png": "[encoded data removed]",
      "text/plain": [
       "<Figure size 720x432 with 1 Axes>"
      ]
     },
     "metadata": {
      "needs_background": "light"
     },
     "output_type": "display_data"
    }
   ],
   "source": [
    "plot_state = 'AZ'\n",
    "\n",
    "figsize(10,6)\n",
    "plt.hist(biden_state_votes[plot_state], bins = arange(0,1,0.01));\n",
    "plt.title('%s: Biden vote %s%% (%s, %s)\\nSimulated chance of Biden winning: %s'%(plot_state,\n",
    "                                                   np.round((100*biden_state_votes[plot_state].mean()),1),\n",
    "                                                   np.round((100*biden_state_votes[plot_state].quantile(0.025)),1),\n",
    "                                                   np.round((100*biden_state_votes[plot_state].quantile(0.975)),1),\n",
    "                                                   biden_state_win_prob[plot_state]),\n",
    "          fontsize = 14)\n",
    "axvline(0.5, color = 'black');\n",
    "axvline(biden_state_votes[plot_state].mean(), color = 'red');"
   ]
  },
  {
   "cell_type": "code",
   "execution_count": null,
   "metadata": {},
   "outputs": [],
   "source": []
  }
 ],
 "metadata": {
  "colab": {
   "collapsed_sections": [],
   "name": "Simple presidential poll aggregator & election forecaster.ipynb",
   "provenance": []
  },
  "kernelspec": {
   "display_name": "Python 3",
   "language": "python",
   "name": "python3"
  },
  "language_info": {
   "codemirror_mode": {
    "name": "ipython",
    "version": 3
   },
   "file_extension": ".py",
   "mimetype": "text/x-python",
   "name": "python",
   "nbconvert_exporter": "python",
   "pygments_lexer": "ipython3",
   "version": "3.7.4"
  }
 },
 "nbformat": 4,
 "nbformat_minor": 1
}
